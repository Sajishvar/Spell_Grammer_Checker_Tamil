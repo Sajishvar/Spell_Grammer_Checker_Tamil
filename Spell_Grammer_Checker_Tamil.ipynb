{
  "nbformat": 4,
  "nbformat_minor": 0,
  "metadata": {
    "colab": {
      "provenance": [],
      "include_colab_link": true
    },
    "kernelspec": {
      "name": "python3",
      "display_name": "Python 3"
    },
    "language_info": {
      "name": "python"
    }
  },
  "cells": [
    {
      "cell_type": "markdown",
      "metadata": {
        "id": "view-in-github",
        "colab_type": "text"
      },
      "source": [
        "<a href=\"https://colab.research.google.com/github/Sajishvar/Spell_Grammer_Checker_Tamil/blob/sajishvar/Spell_Grammer_Checker_Tamil.ipynb\" target=\"_parent\"><img src=\"https://colab.research.google.com/assets/colab-badge.svg\" alt=\"Open In Colab\"/></a>"
      ]
    },
    {
      "cell_type": "code",
      "source": [
        "import sys\n",
        "from collections import Counter\n",
        "\n",
        "# Adjust encoding configuration for standard output in environments supporting it.\n",
        "if hasattr(sys.stdout, 'reconfigure'):\n",
        "    sys.stdout.reconfigure(encoding='utf-8')"
      ],
      "metadata": {
        "id": "CEFMekH6Lvnk"
      },
      "execution_count": null,
      "outputs": []
    },
    {
      "cell_type": "code",
      "source": [
        "def load_dictionary(file_path):\n",
        "    # Load words from a dictionary file\n",
        "    with open(file_path, 'r', encoding='utf-8') as file:\n",
        "        dictionary = set(line.strip() for line in file)\n",
        "    return dictionary"
      ],
      "metadata": {
        "id": "tIQEAbB5_LnP"
      },
      "execution_count": null,
      "outputs": []
    },
    {
      "cell_type": "code",
      "source": [
        "def word_length_similarity(misspelt_word, candidate_word):\n",
        "    # Binary score: 1.0 if lengths match, 0.0 if they don't\n",
        "    return 1.0 if len(misspelt_word) == len(candidate_word) else 0.0"
      ],
      "metadata": {
        "id": "2RWXXt4jkxgC"
      },
      "execution_count": null,
      "outputs": []
    },
    {
      "cell_type": "code",
      "source": [
        "def character_frequency_similarity(misspelt_word, candidate_word):\n",
        "    # Count frequency of each character in both words\n",
        "    misspelt_counter = Counter(misspelt_word)\n",
        "    candidate_counter = Counter(candidate_word)\n",
        "    # Compute sum of minimum matches for each character\n",
        "    matching_count = sum(min(misspelt_counter[char], candidate_counter[char]) for char in misspelt_counter)\n",
        "    # Normalize by the length of the misspelt word\n",
        "    return matching_count / len(misspelt_word)"
      ],
      "metadata": {
        "id": "C-tmlHEJlyYv"
      },
      "execution_count": null,
      "outputs": []
    },
    {
      "cell_type": "code",
      "source": [
        "def position_similarity(misspelt_word, candidate_word):\n",
        "    # Count matching characters at the same positions\n",
        "    match_count = sum(1 for m_char, c_char in zip(misspelt_word, candidate_word) if m_char == c_char)\n",
        "\n",
        "    # Normalize by the length of the shorter word to avoid penalizing due to different lengths\n",
        "    return match_count / min(len(misspelt_word), len(candidate_word))"
      ],
      "metadata": {
        "id": "Cl2VewczmpT1"
      },
      "execution_count": null,
      "outputs": []
    },
    {
      "cell_type": "code",
      "source": [
        "def first_letter_similarity(misspelt_word, candidate_word):\n",
        "    # Check if the first letters of both words match\n",
        "    return 1.0 if misspelt_word[0] == candidate_word[0] else 0.0"
      ],
      "metadata": {
        "id": "UmlqKqoRoHAv"
      },
      "execution_count": null,
      "outputs": []
    },
    {
      "cell_type": "code",
      "source": [
        "def levenshtein_distance(word1, word2):\n",
        "    # Compute the Levenshtein distance between two words\n",
        "    len_word1, len_word2 = len(word1), len(word2)\n",
        "    matrix = [[0] * (len_word2 + 1) for _ in range(len_word1 + 1)]\n",
        "\n",
        "    for i in range(len_word1 + 1):\n",
        "        matrix[i][0] = i\n",
        "    for j in range(len_word2 + 1):\n",
        "        matrix[0][j] = j\n",
        "\n",
        "    for i in range(1, len_word1 + 1):\n",
        "        for j in range(1, len_word2 + 1):\n",
        "            cost = 0 if word1[i-1] == word2[j-1] else 1\n",
        "            matrix[i][j] = min(\n",
        "                matrix[i-1][j] + 1,  # Deletion\n",
        "                matrix[i][j-1] + 1,  # Insertion\n",
        "                matrix[i-1][j-1] + cost  # Substitution\n",
        "            )\n",
        "\n",
        "    return matrix[len_word1][len_word2]"
      ],
      "metadata": {
        "id": "jFw13NpLoOJ_"
      },
      "execution_count": null,
      "outputs": []
    }
  ]
}