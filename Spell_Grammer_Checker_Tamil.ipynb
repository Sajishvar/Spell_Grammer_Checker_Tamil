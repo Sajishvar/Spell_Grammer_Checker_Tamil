{
  "nbformat": 4,
  "nbformat_minor": 0,
  "metadata": {
    "colab": {
      "provenance": [],
      "authorship_tag": "ABX9TyND5/QTg4LQZ+Trbx+foTz3",
      "include_colab_link": true
    },
    "kernelspec": {
      "name": "python3",
      "display_name": "Python 3"
    },
    "language_info": {
      "name": "python"
    }
  },
  "cells": [
    {
      "cell_type": "markdown",
      "metadata": {
        "id": "view-in-github",
        "colab_type": "text"
      },
      "source": [
        "<a href=\"https://colab.research.google.com/github/Sajishvar/Spell_Grammer_Checker_Tamil/blob/sajishvar/Spell_Grammer_Checker_Tamil.ipynb\" target=\"_parent\"><img src=\"https://colab.research.google.com/assets/colab-badge.svg\" alt=\"Open In Colab\"/></a>"
      ]
    },
    {
      "cell_type": "code",
      "source": [
        "def load_dictionary(file_path):\n",
        "    # Load words from a dictionary file\n",
        "    with open(file_path, 'r', encoding='utf-8') as file:\n",
        "        dictionary = set(line.strip() for line in file)\n",
        "    return dictionary"
      ],
      "metadata": {
        "id": "tIQEAbB5_LnP"
      },
      "execution_count": 2,
      "outputs": []
    }
  ]
}