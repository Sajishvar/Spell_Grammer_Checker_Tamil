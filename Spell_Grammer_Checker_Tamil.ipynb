{
  "nbformat": 4,
  "nbformat_minor": 0,
  "metadata": {
    "colab": {
      "provenance": [],
      "include_colab_link": true
    },
    "kernelspec": {
      "name": "python3",
      "display_name": "Python 3"
    },
    "language_info": {
      "name": "python"
    }
  },
  "cells": [
    {
      "cell_type": "markdown",
      "metadata": {
        "id": "view-in-github",
        "colab_type": "text"
      },
      "source": [
        "<a href=\"https://colab.research.google.com/github/Sajishvar/Spell_Grammer_Checker_Tamil/blob/sajishvar/Spell_Grammer_Checker_Tamil.ipynb\" target=\"_parent\"><img src=\"https://colab.research.google.com/assets/colab-badge.svg\" alt=\"Open In Colab\"/></a>"
      ]
    },
    {
      "cell_type": "code",
      "source": [
        "import sys\n",
        "from collections import Counter\n",
        "\n",
        "# Adjust encoding configuration for standard output in environments supporting it.\n",
        "if hasattr(sys.stdout, 'reconfigure'):\n",
        "    sys.stdout.reconfigure(encoding='utf-8')"
      ],
      "metadata": {
        "id": "CEFMekH6Lvnk"
      },
      "execution_count": null,
      "outputs": []
    },
    {
      "cell_type": "code",
      "source": [
        "def load_dictionary(file_path):\n",
        "    # Load words from a dictionary file\n",
        "    with open(file_path, 'r', encoding='utf-8') as file:\n",
        "        dictionary = set(line.strip() for line in file)\n",
        "    return dictionary"
      ],
      "metadata": {
        "id": "tIQEAbB5_LnP"
      },
      "execution_count": null,
      "outputs": []
    },
    {
      "cell_type": "code",
      "source": [
        "def word_length_similarity(misspelt_word, candidate_word):\n",
        "    # Binary score: 1.0 if lengths match, 0.0 if they don't\n",
        "    return 1.0 if len(misspelt_word) == len(candidate_word) else 0.0"
      ],
      "metadata": {
        "id": "2RWXXt4jkxgC"
      },
      "execution_count": null,
      "outputs": []
    },
    {
      "cell_type": "code",
      "source": [
        "def character_frequency_similarity(misspelt_word, candidate_word):\n",
        "    # Count frequency of each character in both words\n",
        "    misspelt_counter = Counter(misspelt_word)\n",
        "    candidate_counter = Counter(candidate_word)\n",
        "    # Compute sum of minimum matches for each character\n",
        "    matching_count = sum(min(misspelt_counter[char], candidate_counter[char]) for char in misspelt_counter)\n",
        "    # Normalize by the length of the misspelt word\n",
        "    return matching_count / len(misspelt_word)"
      ],
      "metadata": {
        "id": "C-tmlHEJlyYv"
      },
      "execution_count": null,
      "outputs": []
    }
  ]
}